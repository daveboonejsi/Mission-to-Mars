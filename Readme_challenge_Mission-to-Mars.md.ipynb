{
 "cells": [
  {
   "cell_type": "markdown",
   "metadata": {},
   "source": [
    "##challenge Readme file\n",
    "\n",
    "Mission to Mars Challenge (Module 10)\n",
    "\n",
    "Scrape the NASA websites to create an app that updates on command\n",
    "\n",
    "Using MongoDB, python, flask, splinter, and BeautifulSoup.\n",
    "\n",
    "Run Mongod, then Mongo from within the shell\n",
    "\n",
    "Run the file app_challenge.py from the Anaconda shell.\n",
    "\n",
    "Enter the local web address into a browser, then after receiving the message \"Scraping Successful\", review the local URL to see the index_challenge.html stored in the Templates subdirectory.\n",
    "\n",
    "The page displays the image of the day from NASA, a table of facts from Mars, and the article of the day with description.\n",
    "\n",
    "Then there are four image files of the four hemisperes of Mars.\n",
    "\n",
    "I wrote a python program (app_challenge.py) which uses flask to create a web app, that calls another program called scraping_challenge.py that scrapes the NASA websites for the relevant data using html tags to identify elements of a website and import them over the web.  The program makes a python dictory of text, titles, images, and tables, calls a html template to display the elements.  The app is dynamic such that if you click on a preformatted button on the webpage it will refresh the data.\n",
    "\n",
    "Had a little trouble whereby the pictures wouldn't load.\n",
    "\n"
   ]
  }
 ],
 "metadata": {
  "kernelspec": {
   "display_name": "PythonData",
   "language": "python",
   "name": "pythondata"
  },
  "language_info": {
   "codemirror_mode": {
    "name": "ipython",
    "version": 3
   },
   "file_extension": ".py",
   "mimetype": "text/x-python",
   "name": "python",
   "nbconvert_exporter": "python",
   "pygments_lexer": "ipython3",
   "version": "3.7.7"
  }
 },
 "nbformat": 4,
 "nbformat_minor": 4
}
